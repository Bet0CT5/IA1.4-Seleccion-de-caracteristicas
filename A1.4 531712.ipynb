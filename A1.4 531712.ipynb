{
 "cells": [
  {
   "cell_type": "markdown",
   "id": "5399dbed-71ef-4323-a981-b41146a1ebba",
   "metadata": {},
   "source": [
    "# A1.4 Selección de características"
   ]
  },
  {
   "cell_type": "markdown",
   "id": "e3dd2ce2-81ee-4be1-979e-aaaedf0f654d",
   "metadata": {},
   "source": [
    "1. Importar los datos del archivo **Vino Tinto.csv** al ambiente de trabajo. Se revisan las dimensiones del dataframe y los datos ingresados."
   ]
  },
  {
   "cell_type": "code",
   "execution_count": 18,
   "id": "36166ffc-2996-4051-923b-0665f6c18418",
   "metadata": {},
   "outputs": [
    {
     "name": "stdout",
     "output_type": "stream",
     "text": [
      "Dimensiones del DataFrame (filas, columnas): (1599, 12)\n",
      "\n",
      "Primeras 5 filas de datos\n",
      "\n"
     ]
    },
    {
     "data": {
      "text/html": [
       "<div>\n",
       "<style scoped>\n",
       "    .dataframe tbody tr th:only-of-type {\n",
       "        vertical-align: middle;\n",
       "    }\n",
       "\n",
       "    .dataframe tbody tr th {\n",
       "        vertical-align: top;\n",
       "    }\n",
       "\n",
       "    .dataframe thead th {\n",
       "        text-align: right;\n",
       "    }\n",
       "</style>\n",
       "<table border=\"1\" class=\"dataframe\">\n",
       "  <thead>\n",
       "    <tr style=\"text-align: right;\">\n",
       "      <th></th>\n",
       "      <th>acidezFija</th>\n",
       "      <th>acidezVolatil</th>\n",
       "      <th>acidoCitrico</th>\n",
       "      <th>azucarResidual</th>\n",
       "      <th>cloruros</th>\n",
       "      <th>dioxidoAzufreLibre</th>\n",
       "      <th>dioxidoAzufreTotal</th>\n",
       "      <th>densidad</th>\n",
       "      <th>pH</th>\n",
       "      <th>sulfatos</th>\n",
       "      <th>alcohol</th>\n",
       "      <th>calidad</th>\n",
       "    </tr>\n",
       "  </thead>\n",
       "  <tbody>\n",
       "    <tr>\n",
       "      <th>0</th>\n",
       "      <td>7.4</td>\n",
       "      <td>0.70</td>\n",
       "      <td>0.00</td>\n",
       "      <td>1.9</td>\n",
       "      <td>0.076</td>\n",
       "      <td>11.0</td>\n",
       "      <td>34.0</td>\n",
       "      <td>0.9978</td>\n",
       "      <td>3.51</td>\n",
       "      <td>0.56</td>\n",
       "      <td>9.4</td>\n",
       "      <td>5</td>\n",
       "    </tr>\n",
       "    <tr>\n",
       "      <th>1</th>\n",
       "      <td>7.8</td>\n",
       "      <td>0.88</td>\n",
       "      <td>0.00</td>\n",
       "      <td>2.6</td>\n",
       "      <td>0.098</td>\n",
       "      <td>25.0</td>\n",
       "      <td>67.0</td>\n",
       "      <td>0.9968</td>\n",
       "      <td>3.20</td>\n",
       "      <td>0.68</td>\n",
       "      <td>9.8</td>\n",
       "      <td>5</td>\n",
       "    </tr>\n",
       "    <tr>\n",
       "      <th>2</th>\n",
       "      <td>7.8</td>\n",
       "      <td>0.76</td>\n",
       "      <td>0.04</td>\n",
       "      <td>2.3</td>\n",
       "      <td>0.092</td>\n",
       "      <td>15.0</td>\n",
       "      <td>54.0</td>\n",
       "      <td>0.9970</td>\n",
       "      <td>3.26</td>\n",
       "      <td>0.65</td>\n",
       "      <td>9.8</td>\n",
       "      <td>5</td>\n",
       "    </tr>\n",
       "    <tr>\n",
       "      <th>3</th>\n",
       "      <td>11.2</td>\n",
       "      <td>0.28</td>\n",
       "      <td>0.56</td>\n",
       "      <td>1.9</td>\n",
       "      <td>0.075</td>\n",
       "      <td>17.0</td>\n",
       "      <td>60.0</td>\n",
       "      <td>0.9980</td>\n",
       "      <td>3.16</td>\n",
       "      <td>0.58</td>\n",
       "      <td>9.8</td>\n",
       "      <td>6</td>\n",
       "    </tr>\n",
       "    <tr>\n",
       "      <th>4</th>\n",
       "      <td>7.4</td>\n",
       "      <td>0.70</td>\n",
       "      <td>0.00</td>\n",
       "      <td>1.9</td>\n",
       "      <td>0.076</td>\n",
       "      <td>11.0</td>\n",
       "      <td>34.0</td>\n",
       "      <td>0.9978</td>\n",
       "      <td>3.51</td>\n",
       "      <td>0.56</td>\n",
       "      <td>9.4</td>\n",
       "      <td>5</td>\n",
       "    </tr>\n",
       "  </tbody>\n",
       "</table>\n",
       "</div>"
      ],
      "text/plain": [
       "   acidezFija  acidezVolatil  acidoCitrico  azucarResidual  cloruros  \\\n",
       "0         7.4           0.70          0.00             1.9     0.076   \n",
       "1         7.8           0.88          0.00             2.6     0.098   \n",
       "2         7.8           0.76          0.04             2.3     0.092   \n",
       "3        11.2           0.28          0.56             1.9     0.075   \n",
       "4         7.4           0.70          0.00             1.9     0.076   \n",
       "\n",
       "   dioxidoAzufreLibre  dioxidoAzufreTotal  densidad    pH  sulfatos  alcohol  \\\n",
       "0                11.0                34.0    0.9978  3.51      0.56      9.4   \n",
       "1                25.0                67.0    0.9968  3.20      0.68      9.8   \n",
       "2                15.0                54.0    0.9970  3.26      0.65      9.8   \n",
       "3                17.0                60.0    0.9980  3.16      0.58      9.8   \n",
       "4                11.0                34.0    0.9978  3.51      0.56      9.4   \n",
       "\n",
       "   calidad  \n",
       "0        5  \n",
       "1        5  \n",
       "2        5  \n",
       "3        6  \n",
       "4        5  "
      ]
     },
     "execution_count": 18,
     "metadata": {},
     "output_type": "execute_result"
    }
   ],
   "source": [
    "import pandas as pd\n",
    "\n",
    "# Se crea el DataFrame con los datos del archivo\n",
    "df = pd.read_csv('A1.4 Vino Tinto.csv')\n",
    "\n",
    "# Se imprimen las dimensiones del DataFrame\n",
    "print(f\"Dimensiones del DataFrame (filas, columnas): {df.shape}\")\n",
    "\n",
    "# Se imprimen las primeras 5 filas de datos\n",
    "print(\"\\nPrimeras 5 filas de datos\\n\")\n",
    "df.head(5)"
   ]
  },
  {
   "cell_type": "markdown",
   "id": "8d98bff8-2143-43f8-b8a7-c784a7b4aa14",
   "metadata": {},
   "source": [
    "2. Separar el DataFrame en datos de entrenamiento y datos de prueba con una proporción 80/20, asegurando que la partición sea aleatoria. Se imprime en pantalla las dimensiones de ambos conjuntos de datos, comprobando que la cantidad de observaciones de ambos conjuntos de datos sumen a la cantidad de datos original."
   ]
  },
  {
   "cell_type": "code",
   "execution_count": 20,
   "id": "9deae23c-94a5-4041-b364-e027b9152c94",
   "metadata": {},
   "outputs": [
    {
     "name": "stdout",
     "output_type": "stream",
     "text": [
      "Dimensiones del conjunto de entrenamiento (filas, columnas): (1279, 11)\n",
      "Dimensiones del conjunto de pruebas (filas, columnas): (320, 11)\n",
      "Las dimensiones de los subconjuntos si pertenecen al conjunto original\n"
     ]
    }
   ],
   "source": [
    "from sklearn.model_selection import train_test_split\n",
    "\n",
    "# Se generan los datos de entrenamiento (80%) y validación (20%)\n",
    "train, test = train_test_split(df, train_size = 0.8, random_state=42)\n",
    "\n",
    "# Generar X e Y para entrenamiento\n",
    "X_train = train.drop('calidad', axis = 1)\n",
    "Y_train = train['calidad']\n",
    "\n",
    "# Generar X e Y para prueba\n",
    "X_test = test.drop('calidad', axis = 1)\n",
    "Y_test = test['calidad']\n",
    "\n",
    "# Se imprimen las dimensiones de ambos conjuntos\n",
    "print(f\"Dimensiones del conjunto de entrenamiento (filas, columnas): {X_train.shape}\")\n",
    "print(f\"Dimensiones del conjunto de pruebas (filas, columnas): {X_test.shape}\")\n",
    "\n",
    "# Verificar si la suma de ambos conjuntos equivale al tamaño del DataFrame original\n",
    "if train.shape[0] + test.shape[0] == df.shape[0]:\n",
    "    print(\"Las dimensiones de los subconjuntos si pertenecen al conjunto original\")\n",
    "else:\n",
    "    print(\"Las dimensiones de los subconjuntos no cuadran con las del conjunto original\")"
   ]
  },
  {
   "cell_type": "markdown",
   "id": "088c9ac3-82a4-433d-b1a6-4824a35bebbe",
   "metadata": {},
   "source": [
    "3. Generar la metodología de selección hacia adelante imprimiendo en consola los índices o los nombres de las características seleccionadas. Se hace uso de la función **SequentialFeatureSelector** de la librería **mlxtend.feature_selection**."
   ]
  },
  {
   "cell_type": "code",
   "execution_count": 30,
   "id": "7c8b719e-ac57-4cf8-a4d7-cea842284ed0",
   "metadata": {},
   "outputs": [
    {
     "name": "stdout",
     "output_type": "stream",
     "text": [
      "Características seleccionadas:  ['acidezVolatil', 'cloruros', 'dioxidoAzufreLibre', 'dioxidoAzufreTotal', 'pH', 'sulfatos', 'alcohol']\n"
     ]
    }
   ],
   "source": [
    "from sklearn.linear_model import LinearRegression\n",
    "from mlxtend.feature_selection import SequentialFeatureSelector as SFS\n",
    "\n",
    "# Se declara el modelo y se hace la metodología de selección hacia adelante con la función SFS. \n",
    "model = LinearRegression()\n",
    "sfs_forward = SFS(model, k_features=(2,8), forward=True, floating=False, scoring='r2', cv=10)\n",
    "sfs_forward.fit(X_train, Y_train)\n",
    "\n",
    "# Se imprimen las características seleccionadas\n",
    "select_features = list(sfs_forward.k_feature_names_)\n",
    "print(\"Características seleccionadas: \", select_features)"
   ]
  },
  {
   "cell_type": "markdown",
   "id": "8ef1e3ff-7398-4718-acd3-faa249f42563",
   "metadata": {},
   "source": [
    "4. Entrenar un modelo que solamente contenga las variables seleccionadas, predecir la\n",
    "respuesta en las observaciones de prueba y medir la capacidad de predicción del modelo\n",
    "usando la R cuadrada, imprimiendo dicho valor en consola."
   ]
  },
  {
   "cell_type": "code",
   "execution_count": 35,
   "id": "da8dc332-8d83-4489-ac71-2e32ef41460b",
   "metadata": {},
   "outputs": [
    {
     "name": "stdout",
     "output_type": "stream",
     "text": [
      "R cuadrada con selección hacia adelante: 0.40126288354402984\n"
     ]
    }
   ],
   "source": [
    "from sklearn.metrics import r2_score\n",
    "\n",
    "# Se obtienen los datos de solo las características previamente seleccionadas\n",
    "X_train_sel = X_train[select_features]\n",
    "X_test_sel = X_test[select_features]\n",
    "\n",
    "# Se entrena el modelo con el nuevo dataset\n",
    "model.fit(X_train_sel, Y_train)\n",
    "\n",
    "# Se predice la respuesta en las observaciones de prueba (nuevo dataset)\n",
    "y_pred = model.predict(X_test_sel)\n",
    "\n",
    "# Se mide la capacidad de predicción a través de R2\n",
    "r2_forward = r2_score(Y_test, y_pred)\n",
    "print(f\"R cuadrada con selección hacia adelante: {r2_forward}\")"
   ]
  },
  {
   "cell_type": "markdown",
   "id": "4a006e37-7dd4-4ecd-8fe1-7dc542e946af",
   "metadata": {},
   "source": [
    "5. Realizar un proceso de selección hacia atrás a partir de las variables seleccionadas por\n",
    "el método de selección hacia adelante e imprimir en consola los índices o nombres de las\n",
    "variables seleccionadas. "
   ]
  },
  {
   "cell_type": "code",
   "execution_count": 40,
   "id": "139db7cd-bcac-4f4c-b46e-b2f1a2821e20",
   "metadata": {},
   "outputs": [
    {
     "name": "stdout",
     "output_type": "stream",
     "text": [
      "Características seleccionadas hacia atrás:  ['acidezVolatil', 'cloruros', 'dioxidoAzufreTotal', 'sulfatos', 'alcohol']\n"
     ]
    }
   ],
   "source": [
    "# Se hace la metodología de selección hacia atrás con la función SFS.\n",
    "sfs_back = SFS(model, k_features=(2,5), forward=False, floating=False, scoring='r2', cv=10)\n",
    "sfs_back.fit(X_train_sel, Y_train)\n",
    "\n",
    "# Se listan los nombres de las características seleccionadas hacia atrás y se imprimen\n",
    "selected_features_back = list(sfs_back.k_feature_names_)\n",
    "print(\"Características seleccionadas hacia atrás: \", selected_features_back)"
   ]
  },
  {
   "cell_type": "markdown",
   "id": "7a50cdc6-9dbe-4c58-a443-a9c58a98b2fb",
   "metadata": {},
   "source": [
    "6. Repetir el paso 4, pero para un modelo que contenga solamente las variables\n",
    "seleccionadas en el paso 5. Se imprime en pantalla un breve texto que describe mi opinión\n",
    "sobre la diferencia en R cuadrada medida entre los modelos de los pasos 4 y 6."
   ]
  },
  {
   "cell_type": "code",
   "execution_count": 45,
   "id": "b60c4ca1-d320-4646-881b-6632fc17fe07",
   "metadata": {},
   "outputs": [
    {
     "name": "stdout",
     "output_type": "stream",
     "text": [
      "R Cuadrada con selección hacia atrás: 0.3958889666765403\n",
      "El modelo con selección hacia adelante es mejor, R2: 0.40126288354402984\n"
     ]
    }
   ],
   "source": [
    "# Se obtienen los datos de solo las características previamente seleccionadas\n",
    "X_train_sel_back = X_train[selected_features_back]\n",
    "X_test_sel_back = X_test[selected_features_back]\n",
    "\n",
    "# Se entrena el modelo con el nuevo dataset\n",
    "model.fit(X_train_sel_back, Y_train)\n",
    "\n",
    "# Se predice la respuesta en las observaciones de prueba (nuevo dataset)\n",
    "y_pred_back = model.predict(X_test_sel_back)\n",
    "\n",
    "# Se mide la capacidad de predicción a través de R2\n",
    "r2_back = r2_score(Y_test, y_pred_back)\n",
    "print(f\"R Cuadrada con selección hacia atrás: {r2_back}\")\n",
    "\n",
    "# Se comparan los modelos para saber cual es el mejor\n",
    "if r2_forward > r2_back:\n",
    "    print(f\"El modelo con selección hacia adelante es mejor, R2: {r2_forward}\")\n",
    "else:\n",
    "    print(f\"El modelo con selección hacia atrás es mejor, R2: {r2_back}\")"
   ]
  },
  {
   "cell_type": "markdown",
   "id": "07948c89-48cd-4b55-9c1d-6f6c9425f215",
   "metadata": {},
   "source": [
    "En este caso, el modelo obtenido por el método de selección hacia adelante obtuvo una mejor R2 (0.401 > 0.395) que el obtenido por el método de selección hacia atrás. Aunque la diferencia entre ambas es mínima, el primer modelo se ajusta mejor que el segundo y por esa razón considero que es mejor.  "
   ]
  }
 ],
 "metadata": {
  "kernelspec": {
   "display_name": "Python [conda env:base] *",
   "language": "python",
   "name": "conda-base-py"
  },
  "language_info": {
   "codemirror_mode": {
    "name": "ipython",
    "version": 3
   },
   "file_extension": ".py",
   "mimetype": "text/x-python",
   "name": "python",
   "nbconvert_exporter": "python",
   "pygments_lexer": "ipython3",
   "version": "3.12.7"
  }
 },
 "nbformat": 4,
 "nbformat_minor": 5
}
